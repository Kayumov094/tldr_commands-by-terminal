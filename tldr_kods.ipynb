{
  "nbformat": 4,
  "nbformat_minor": 0,
  "metadata": {
    "colab": {
      "private_outputs": true,
      "provenance": [],
      "authorship_tag": "ABX9TyNztvXiwCu3LcsZrj+A+tCq",
      "include_colab_link": true
    },
    "kernelspec": {
      "name": "python3",
      "display_name": "Python 3"
    },
    "language_info": {
      "name": "python"
    }
  },
  "cells": [
    {
      "cell_type": "markdown",
      "metadata": {
        "id": "view-in-github",
        "colab_type": "text"
      },
      "source": [
        "<a href=\"https://colab.research.google.com/github/Kayumov094/tldr_commands-by-terminal/blob/main/tldr_kods.ipynb\" target=\"_parent\"><img src=\"https://colab.research.google.com/assets/colab-badge.svg\" alt=\"Open In Colab\"/></a>"
      ]
    },
    {
      "cell_type": "code",
      "execution_count": null,
      "metadata": {
        "id": "APCDrrASfljM"
      },
      "outputs": [],
      "source": [
        "!ls"
      ]
    },
    {
      "cell_type": "code",
      "source": [
        "!mkdir Susanbil"
      ],
      "metadata": {
        "id": "Am-Lzs8AfxOb"
      },
      "execution_count": null,
      "outputs": []
    },
    {
      "cell_type": "code",
      "source": [
        "!mkdir ali"
      ],
      "metadata": {
        "id": "Hqpx_PSpgDP3"
      },
      "execution_count": null,
      "outputs": []
    },
    {
      "cell_type": "code",
      "source": [
        "!ls"
      ],
      "metadata": {
        "id": "qg3wj-sjgGmz"
      },
      "execution_count": null,
      "outputs": []
    },
    {
      "cell_type": "code",
      "source": [
        "!pip install tldr"
      ],
      "metadata": {
        "id": "1amDXk6DgMGT"
      },
      "execution_count": null,
      "outputs": []
    },
    {
      "cell_type": "code",
      "source": [
        "!ls"
      ],
      "metadata": {
        "id": "dEQOpmPJoN-G"
      },
      "execution_count": null,
      "outputs": []
    },
    {
      "cell_type": "code",
      "source": [
        "!ls: cd ali;"
      ],
      "metadata": {
        "id": "WSpAXTrYobWa"
      },
      "execution_count": null,
      "outputs": []
    },
    {
      "cell_type": "code",
      "source": [
        "!mkdir arslonbek"
      ],
      "metadata": {
        "id": "0ISB7NnFofrg"
      },
      "execution_count": null,
      "outputs": []
    },
    {
      "cell_type": "code",
      "source": [
        "!ls"
      ],
      "metadata": {
        "id": "yvbiY3Kgo4lK"
      },
      "execution_count": null,
      "outputs": []
    },
    {
      "cell_type": "code",
      "source": [
        "!cd arslonbek\n",
        "!pwd arslonbek"
      ],
      "metadata": {
        "id": "uIZpWLaMry6A"
      },
      "execution_count": null,
      "outputs": []
    },
    {
      "cell_type": "code",
      "source": [
        "!touch ars"
      ],
      "metadata": {
        "id": "jiEmplWdr1d8"
      },
      "execution_count": null,
      "outputs": []
    },
    {
      "cell_type": "code",
      "source": [
        "!cp ars"
      ],
      "metadata": {
        "id": "oiHlFf6Kr213"
      },
      "execution_count": null,
      "outputs": []
    },
    {
      "cell_type": "code",
      "source": [
        "!echo \"<Mening ismim arslonbek.\" > arslonbek/ars"
      ],
      "metadata": {
        "id": "Bfy9eiktsvZP"
      },
      "execution_count": null,
      "outputs": []
    },
    {
      "cell_type": "code",
      "source": [
        "!cat arslonbek/ars"
      ],
      "metadata": {
        "id": "4YpIGb7fyqDi"
      },
      "execution_count": null,
      "outputs": []
    },
    {
      "cell_type": "code",
      "source": [
        "!ls"
      ],
      "metadata": {
        "id": "bnBZDvT1y9ED"
      },
      "execution_count": null,
      "outputs": []
    },
    {
      "cell_type": "code",
      "source": [
        "!mkdir aslzoda"
      ],
      "metadata": {
        "id": "F0A-A76uy-Vu"
      },
      "execution_count": null,
      "outputs": []
    },
    {
      "cell_type": "code",
      "source": [
        "!ls"
      ],
      "metadata": {
        "id": "EnORgAcKzDzO"
      },
      "execution_count": null,
      "outputs": []
    },
    {
      "cell_type": "code",
      "source": [
        "!echo \"<Mening ismim aslzoda>. \" arslonbek/arslon"
      ],
      "metadata": {
        "id": "Z0BOKYCEzFSc"
      },
      "execution_count": null,
      "outputs": []
    },
    {
      "cell_type": "code",
      "source": [
        "!touch"
      ],
      "metadata": {
        "id": "-N7zqWqzzVvE"
      },
      "execution_count": null,
      "outputs": []
    },
    {
      "cell_type": "code",
      "source": [
        "!echo \"sduwehduhwnudhuwdwodo;uw;dowao;ujdo;w\" aslzoda/arslon"
      ],
      "metadata": {
        "id": "pnEEBtQlzcju"
      },
      "execution_count": null,
      "outputs": []
    },
    {
      "cell_type": "code",
      "source": [
        "!ls aslzoda"
      ],
      "metadata": {
        "id": "t4cqwDyJzzC6"
      },
      "execution_count": null,
      "outputs": []
    },
    {
      "cell_type": "code",
      "source": [
        "!touch aslzoda/abdulaziz"
      ],
      "metadata": {
        "id": "Bpu8Touv0tOa"
      },
      "execution_count": null,
      "outputs": []
    },
    {
      "cell_type": "code",
      "source": [
        "!echo \"Abdulaziz mening o'g'lim\" > aslzoda/abdulaziz"
      ],
      "metadata": {
        "id": "rSOd-1PV1eqL"
      },
      "execution_count": null,
      "outputs": []
    },
    {
      "cell_type": "code",
      "source": [
        "!ls aslzoda"
      ],
      "metadata": {
        "id": "CwC_aUec1n-L"
      },
      "execution_count": null,
      "outputs": []
    },
    {
      "cell_type": "code",
      "source": [
        "!cat aslzoda/abdulaziz"
      ],
      "metadata": {
        "id": "zk1ZjsIT1p3K"
      },
      "execution_count": null,
      "outputs": []
    },
    {
      "cell_type": "code",
      "source": [
        "!mkdir Uzbekistan\n",
        "!mkdir Kazaxstan\n",
        "!mkdir Turkmenistan"
      ],
      "metadata": {
        "id": "YnXdQw_12Zlw"
      },
      "execution_count": null,
      "outputs": []
    },
    {
      "cell_type": "code",
      "source": [
        "!ls"
      ],
      "metadata": {
        "id": "_6RSNT5T3fBy"
      },
      "execution_count": null,
      "outputs": []
    },
    {
      "cell_type": "code",
      "source": [
        "!touch Uzbekistan/fergana\n",
        "!touch Uzbekistan/andijon\n",
        "!touch Uzbekistan/namangan\n",
        "!touch Uzbekistan/buxara"
      ],
      "metadata": {
        "id": "gWO7Xy_w3gY4"
      },
      "execution_count": null,
      "outputs": []
    },
    {
      "cell_type": "code",
      "source": [
        "!ls Uzbekistan"
      ],
      "metadata": {
        "id": "TjCUM2jM30cF"
      },
      "execution_count": null,
      "outputs": []
    },
    {
      "cell_type": "code",
      "source": [
        "!mkdir Turkmenistan ! #!make directory orqali Turkmaniston papkasini yaratdim"
      ],
      "metadata": {
        "collapsed": true,
        "id": "c4yWxAuu3_0q"
      },
      "execution_count": null,
      "outputs": []
    },
    {
      "cell_type": "code",
      "source": [
        "!touch Turkmenistan/dashovuz # !touch orqali Turmaniston ichida dashavuz degan fayl yaratdim\n",
        "!touch Turkmenistan/lebap # !touch orqali Turkmaniston ichida lebap degan fayl yaratdim\n",
        "!touch Turkmenistan/mari # !touch orqaliTurkmaniston ichida mari faylini yaratdim\n",
        "!touch Turkmenistan/axal"
      ],
      "metadata": {
        "id": "04NQ5yjJ32z6"
      },
      "execution_count": null,
      "outputs": []
    },
    {
      "cell_type": "code",
      "source": [
        "!ls Uzbekistan\n"
      ],
      "metadata": {
        "id": "YlsNLK2i45Lm"
      },
      "execution_count": null,
      "outputs": []
    },
    {
      "cell_type": "code",
      "source": [
        "!ls Turkmenistan"
      ],
      "metadata": {
        "id": "ZIc8nPub4-dj"
      },
      "execution_count": null,
      "outputs": []
    },
    {
      "cell_type": "code",
      "source": [
        "!echo \"Fargona Ozbekistondagi eng chiroyli viloyatlardan biri\" > Uzbekistan/fergana"
      ],
      "metadata": {
        "id": "rgV8aR6E5FP0"
      },
      "execution_count": null,
      "outputs": []
    },
    {
      "cell_type": "code",
      "source": [
        "!cat Uzbekistan/fergana"
      ],
      "metadata": {
        "id": "bOu8yULA6Qag"
      },
      "execution_count": null,
      "outputs": []
    },
    {
      "cell_type": "code",
      "source": [
        "!ls -lh Uzbekistan"
      ],
      "metadata": {
        "id": "k8GyktNG6Vgv"
      },
      "execution_count": null,
      "outputs": []
    },
    {
      "cell_type": "code",
      "source": [
        "!ls -R"
      ],
      "metadata": {
        "id": "WEfN74pC7byk"
      },
      "execution_count": null,
      "outputs": []
    },
    {
      "cell_type": "code",
      "source": [
        "!ls -i"
      ],
      "metadata": {
        "id": "4QDhBOb97t4f"
      },
      "execution_count": null,
      "outputs": []
    },
    {
      "cell_type": "code",
      "source": [
        "!ls -F"
      ],
      "metadata": {
        "id": "qKpnCc2u9d-N"
      },
      "execution_count": null,
      "outputs": []
    },
    {
      "cell_type": "code",
      "source": [
        "!ls --color"
      ],
      "metadata": {
        "id": "AUktF1Uo9fPx"
      },
      "execution_count": null,
      "outputs": []
    },
    {
      "cell_type": "code",
      "source": [
        "!ls -v"
      ],
      "metadata": {
        "id": "2VEbnQoJ95Ml"
      },
      "execution_count": null,
      "outputs": []
    },
    {
      "cell_type": "code",
      "source": [
        "!ls -Q"
      ],
      "metadata": {
        "id": "oL_Hm3lq-MCV"
      },
      "execution_count": null,
      "outputs": []
    },
    {
      "cell_type": "code",
      "source": [
        "!cd Kazaxstan"
      ],
      "metadata": {
        "id": "QSpPL-LT-g7s"
      },
      "execution_count": null,
      "outputs": []
    },
    {
      "cell_type": "code",
      "source": [
        "!cd Turkmenistan"
      ],
      "metadata": {
        "id": "Q1y-qtti-yoh"
      },
      "execution_count": null,
      "outputs": []
    },
    {
      "cell_type": "code",
      "source": [
        "!ls -t Turkmenistan"
      ],
      "metadata": {
        "id": "k0vfuoZu-2S6"
      },
      "execution_count": null,
      "outputs": []
    },
    {
      "cell_type": "code",
      "source": [
        "!echo \"Turkmaniton poytaxti Ashxobod shahri\" > Turkmenistan/axal"
      ],
      "metadata": {
        "id": "uBEPR4h3-5dY"
      },
      "execution_count": null,
      "outputs": []
    },
    {
      "cell_type": "code",
      "source": [
        "!cat Turkmenistan/axal"
      ],
      "metadata": {
        "id": "ZG1IrEdG_K1O"
      },
      "execution_count": null,
      "outputs": []
    },
    {
      "cell_type": "code",
      "source": [
        "!cd Uzbekistan && ls"
      ],
      "metadata": {
        "id": "lFE9wqIz_YIg"
      },
      "execution_count": null,
      "outputs": []
    },
    {
      "cell_type": "code",
      "source": [
        "# !ls Uzbekistan"
      ],
      "metadata": {
        "id": "6n9k3h9_A2Oq"
      },
      "execution_count": null,
      "outputs": []
    },
    {
      "cell_type": "code",
      "source": [
        "# !cd/Turkmenistan"
      ],
      "metadata": {
        "id": "5XoshAEgA499"
      },
      "execution_count": null,
      "outputs": []
    },
    {
      "cell_type": "code",
      "source": [
        "!cd Turkmenistan && ls && echo \"Davovuz men boraman sen kut\" > dashovuz"
      ],
      "metadata": {
        "id": "8Q8WYFF9A8gH"
      },
      "execution_count": null,
      "outputs": []
    },
    {
      "cell_type": "code",
      "source": [
        "!cat Turkmenistan/dashovuz"
      ],
      "metadata": {
        "id": "EZyj8rXDBt7V"
      },
      "execution_count": null,
      "outputs": []
    },
    {
      "cell_type": "code",
      "source": [
        "!mkdir papka1 papka2 papka3"
      ],
      "metadata": {
        "id": "2AaW3nAACKVl"
      },
      "execution_count": null,
      "outputs": []
    },
    {
      "cell_type": "code",
      "source": [
        "!ls -S"
      ],
      "metadata": {
        "id": "kihjf5puLLDq"
      },
      "execution_count": null,
      "outputs": []
    },
    {
      "cell_type": "code",
      "source": [],
      "metadata": {
        "id": "JsXfI5XmLPWC"
      },
      "execution_count": null,
      "outputs": []
    }
  ]
}